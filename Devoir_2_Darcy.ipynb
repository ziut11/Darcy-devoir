{
 "cells": [
  {
   "cell_type": "markdown",
   "metadata": {},
   "source": [
    "$\\textbf{Question 1}$\n",
    "\n",
    "Nous avons le système d'équations suivant:\n",
    "\n",
    "$$\\left(\\frac{\\partial^2}{\\partial z^2}-k^2\\right)w = -k^2 c\\\\\n",
    "\\frac{\\partial c}{\\partial t}-\\frac{1}{Ra}\\left(\\frac{\\partial^2}{\\partial z^2}-k^2\\right)c=-\\frac{\\partial C_0}{\\partial z}w,$$\n",
    "\n",
    "avec $C_0(z,t)=1-{\\rm erf}(z\\sqrt{\\frac{Ra}{4t}}).$\n",
    "\n",
    "Effectuons le changement de variables:\n",
    "\n",
    "$$\\xi =z\\sqrt{\\frac{Ra}{4t}}.$$\n",
    "\n",
    "Les fonctions $w$ et $c$ dépendront alors des variables $\\xi$ et $t$, que nous considérons à présent indépendantes. Pour $w$, cela donne:\n",
    "\n",
    "$$w=w(z,t)=w(z(\\xi ,t),t)\\Rightarrow \\frac{\\partial w}{\\partial \\xi }=\\frac{\\partial w}{\\partial z}\\frac{\\partial z}{\\partial \\xi }+\\frac{\\partial w}{\\partial t}\\frac{\\partial t}{\\partial \\xi }=\\frac{\\partial w}{\\partial z}\\frac{\\partial z}{\\partial \\xi }.$$\n",
    "\n",
    "Donc\n",
    "$$\\frac{\\partial w}{\\partial z}=\\frac{1}{\\frac{\\partial z}{\\partial \\xi }}\\frac{\\partial w}{\\partial \\xi}.$$\n",
    "\n",
    "Nous faisons de même pour évaluer la dérivée seconde de $w$ par rapport à $\\xi$, ce qui donne:\n",
    "    \n",
    "$$\\frac{\\partial^2 w}{\\partial z^2}=\\left (\\frac{1}{\\frac{\\partial z}{\\partial \\xi }}  \\right )^2\\frac{\\partial^2 w}{\\partial \\xi^2}=\\frac{Ra}{4t}\\frac{\\partial^2 w}{\\partial \\xi ^2}.$$\n",
    "\n",
    "Pour la fonction $c$ nous avons:\n",
    "\n",
    "$$c=c(z,t)=c(z(\\xi ,t),t)=\\widetilde{c}(\\xi ,t)\\Rightarrow \\frac{\\partial \\widetilde{c}}{\\partial t}=\\frac{\\partial c}{\\partial z}\\frac{\\partial z}{\\partial t}+\\frac{\\partial c}{\\partial t}\\frac{\\partial t}{\\partial t}=\\left (\\frac{1}{\\frac{\\partial z}{\\partial \\xi }}\\frac{\\partial \\widetilde{c}}{\\partial \\xi }  \\right )\\frac{\\partial z}{\\partial t}+\\frac{\\partial c}{\\partial t}=\\frac{\\xi }{2t}\\frac{\\partial c}{\\partial \\xi }+\\frac{\\partial c}{\\partial t}$$\n",
    "\n",
    "$$\\Rightarrow \\frac{\\partial c}{\\partial t}=\\frac{\\partial \\widetilde{c}}{\\partial t}-\\frac{\\xi }{2t}\\frac{\\partial \\widetilde{c}}{\\partial \\xi }.$$\n",
    "\n",
    "Enfin, la première équation devient donc:\n",
    "\n",
    "$$\\left (\\frac{Ra}{4t}\\frac{\\partial^2 }{\\partial \\xi ^2}-k^2  \\right )w=-k^2c, \\quad (1)$$\n",
    "\n",
    "et la deuxième devient:\n",
    "    \n",
    "$$\\frac{\\partial \\widetilde{c}}{\\partial t}-\\frac{\\xi }{2t}\\frac{\\partial \\widetilde{c}}{\\partial \\xi }-\\frac{1}{Ra}\\left (\\frac{Ra}{4t}\\frac{\\partial^2 }{\\partial \\xi ^2}-k^2  \\right )\\widetilde{c}=-\\frac{\\partial C_0}{\\partial z}w=\\sqrt{\\frac{Ra}{\\pi t}}e^{-\\xi ^2}w.$$\n",
    "\n",
    "En posant $c=\\widetilde{c}$, et en réarrangeant les termes, nous obtenons l'expression voulue:\n",
    "\n",
    "$$\\frac{\\partial c}{\\partial t}-\\frac{1}{t}\\left (\\frac{1}{4}\\frac{\\partial^2 }{\\partial \\xi ^2}+\\frac{\\xi }{2}\\frac{\\partial }{\\partial \\xi }-\\frac{k^2t}{Ra}  \\right )c=-\\frac{\\partial C_0}{\\partial z}w=\\sqrt{\\frac{Ra}{\\pi t}}e^{-\\xi ^2}w. \\quad (2)$$"
   ]
  },
  {
   "cell_type": "markdown",
   "metadata": {},
   "source": [
    "$\\textbf{Question 2}$\n",
    "\n",
    "Afin de réécrire les opérateurs de dérivée première et seconde, nous allons utiliser les différences finies centrées d'ordre 2.\n",
    "\n",
    "$$\\frac{\\partial^2 u}{\\partial x^2}=\\frac{u_{i+1}-2u_{i}+u_{i-1}}{\\Delta x^{2}}+\\mathcal O\\left ( 2 \\right ),$$\n",
    "\n",
    "$$\\frac{\\partial u}{\\partial x}=\\frac{u_{i+1}-u_{i-1}}{2\\Delta x}+\\mathcal O\\left ( 2 \\right ),$$\n",
    "\n",
    "avec $$i = 0,1,...100.$$\n",
    "\n",
    "Puisque nous connaissons les conditions initiales, nous ne devons pas les recalculer en utilisant les différences finies. Dès lors, en $i=0$ et $i=100$, nous devons obtenir $0$, donc la première et dernière ligne des matrices associées à ces opérateurs différentiels valent $0$.\n",
    "\n",
    "De plus, remarquons que pour la matrice des dérivées premières, nous avons\n",
    "\n",
    "$$\\left ( \\frac{\\partial u}{\\partial x} \\right )_{i=1}=\\frac{u_{2}-u_{0}}{2\\Delta x}+\\mathcal O\\left ( 2 \\right )$$\n",
    "\n",
    "et $$u_{0}=0,$$ par les conditions initiales.\n",
    "\n",
    "Donc la première colonne de la matrice vaut 0. La dernière colonne de la matrice vaut aussi 0 en utilisant le même argument.\n",
    "\n",
    "Les opérateurs \"dérivée seconde\" et \"dérivée première\" se réduisent alors à des matrices 99 x 99.\n",
    "\n",
    "Enfin, D1, l'opérateur dérivée première, et D2, l'opérateur dérivée seconde sont définis de la manière suivante:"
   ]
  },
  {
   "cell_type": "code",
   "execution_count": 2,
   "metadata": {},
   "outputs": [
    {
     "name": "stdout",
     "output_type": "stream",
     "text": [
      "[[ 0.  1.  0. ...  0.  0.  0.]\n",
      " [-1.  0.  1. ...  0.  0.  0.]\n",
      " [ 0. -1.  0. ...  0.  0.  0.]\n",
      " ...\n",
      " [ 0.  0.  0. ...  0.  1.  0.]\n",
      " [ 0.  0.  0. ... -1.  0.  1.]\n",
      " [ 0.  0.  0. ...  0. -1.  0.]]\n"
     ]
    }
   ],
   "source": [
    "import numpy\n",
    "Matrix1=numpy.zeros((99,99)) #On définit une matrice remplie de 0\n",
    "for i in range(0,99):\n",
    "    if (i!=0) and (i!=99):\n",
    "        Matrix1[i-1][i]=1    #On remplit les positions \"i+1\" de chaque ligne avec 1\n",
    "        Matrix1[i][i-1]=-1   #On remplit les positin \"i+1\" de chaque colonne avec -1\n",
    "print(Matrix1)"
   ]
  },
  {
   "cell_type": "code",
   "execution_count": 44,
   "metadata": {},
   "outputs": [
    {
     "name": "stdout",
     "output_type": "stream",
     "text": [
      "[[-2.  1.  0. ...  0.  0.  0.]\n",
      " [ 1. -2.  1. ...  0.  0.  0.]\n",
      " [ 0.  1. -2. ...  0.  0.  0.]\n",
      " ...\n",
      " [ 0.  0.  0. ... -2.  1.  0.]\n",
      " [ 0.  0.  0. ...  1. -2.  1.]\n",
      " [ 0.  0.  0. ...  0.  1. -2.]]\n"
     ]
    }
   ],
   "source": [
    "Matrix2=numpy.zeros((99,99))  #On définit une matrice remplie de 0\n",
    "for i in range(0,99):          \n",
    "    Matrix2[i][i]=-2         #On remplit la diagonale avec -2\n",
    "    if (i!=0) and (i!=99):\n",
    "        Matrix2[i-1][i]=1    #On remplit les positions \"i+1\" de chaque ligne avec 1\n",
    "        Matrix2[i][i-1]=1    #On remplit les positions \"i+1\" de chaque colonne avec 1\n",
    "print(Matrix2)"
   ]
  },
  {
   "cell_type": "markdown",
   "metadata": {},
   "source": [
    "Nous avons donc:\n",
    "    \n",
    "$$D1=\\left ( \\frac{1}{2\\Delta } \\right )*Matrix1,$$\n",
    "$$D2=\\left ( \\frac{1}{\\Delta^{2} } \\right )*Matrix2.$$\n",
    "\n",
    "avec $\\Delta$ correpondant au pas avec lequel nous nous déplaçons.\n",
    "\n",
    "Nous obtenons les opérateurs suivants:\n",
    "\n",
    "$$L_{i,j}=\\left ( \\frac{Ra}{4t}D2-k^{2} \\right )_{i,j}, \\quad (3)$$\n",
    "et $$M_{i,j}=\\frac{1}{t}\\left ( \\frac{1}{4}D2+\\frac{\\xi }{2}D1-\\frac{k^{2}t}{Ra} \\right )_{i,j}. \\quad (4)$$"
   ]
  },
  {
   "cell_type": "markdown",
   "metadata": {},
   "source": [
    "$\\textbf{Question 3}$"
   ]
  },
  {
   "cell_type": "markdown",
   "metadata": {},
   "source": [
    "Soit \n",
    "$$f(\\xi )=e^{-\\xi ^2}h(\\xi ),$$\n",
    "\n",
    "où $h$ est un polynôme d'Hermite, solution de l'équation d'Hermite \n",
    "\n",
    "$${h}''-2\\xi h=-2\\lambda h.$$\n",
    "\n",
    "Nous devons à présent déterminer les valeurs propres de l'opérateur\n",
    "\n",
    "$$H=\\frac{1}{4}\\frac{\\partial^2 }{\\partial \\xi ^2}+\\frac{\\xi }{2}\\frac{\\partial }{\\partial \\xi }, \\quad (5)$$\n",
    "\n",
    "c'est à dire déterminer $\\alpha $ tel que $Hf=\\alpha f.$\n",
    "\n",
    "Cela nous donne:\n",
    "    \n",
    "$$\\frac{\\partial f}{\\partial \\xi }=-2\\xi e^{-\\xi ^2}h+e^{-\\xi ^2}h',$$\n",
    "\n",
    "$$\\frac{\\partial^2 f}{\\partial \\xi ^2}=-2\\left ( e^{-\\xi ^2}h + \\xi (e^{-\\xi ^2}h)'\\right )-2\\xi e^{-\\xi ^2}h'+e^{-\\xi ^2}h''=e^{-\\xi ^2}\\left ( -2h+4\\xi ^2h-4\\xi h'+h'' \\right ).$$\n",
    "\n",
    "Donc                                                                                                                                                \n",
    "\n",
    "$$Hf=\\frac{1}{4}e^{-\\xi ^2}\\left ( -2h+4\\xi ^2h-4\\xi h'+h'' \\right )+\\frac{\\xi }{2}\\left ( -2\\xi e^{-\\xi ^2}h+e^{-\\xi ^2}h'  \\right )=e^{-\\xi ^2}\\left ( -\\frac{h}{2}-\\xi h'+ \\frac{\\xi h'}{2}+\\frac{h''}{4}\\right )$$\n",
    "\n",
    "$$=e^{-\\xi ^2}\\left ( -\\frac{h}{2}-\\frac{\\lambda h}{2}\\right )=f\\left (\\frac{-1}{2}  \\right )\\left ( 1+\\lambda  \\right ).$$ \n",
    "                                                                                                                                                \n",
    "Nous obtenons $\\alpha = \\left (\\frac{-1}{2}  \\right )\\left ( 1+\\lambda  \\right ).$      \n",
    "                                                                                                                                                \n",
    "Si $f(\\xi=0)=f(\\xi=\\infty )=0$, cela implique que\n",
    "                                                                                                                                                \n",
    "$$h(0)=0.$$\n",
    "                                                                                                                                                \n",
    "Pour que les polynômes d'Hermite s'annulent en $x=0$, il faut que $\\lambda$ soit impair, i.e $\\lambda=2m+1, m \\in \\mathbb{N}.$ \n",
    "                                                                                                                                                \n",
    "$$\\Rightarrow \\alpha =\\frac{-1}{2}\\left ( 1+2m+1 \\right )=-(m+1), m \\in \\mathbb{N}$$\n",
    "                                                                                                                                                \n",
    "Les valeurs admissibles pour $\\alpha$ sont donc \n",
    "\n",
    "$$\\alpha = -1, -2, -3,...$$                                                                                                                                                                                                                                                                                              \n",
    "                                                                                                                                                "
   ]
  },
  {
   "cell_type": "markdown",
   "metadata": {},
   "source": [
    "$\\textbf{Question 4}$\n",
    "\n",
    "Nous devons trouver les valeurs propres de l'opérateur\n",
    "$$H=\\frac{1}{4}D2+\\frac{\\xi }{2}D1$$\n",
    "\n",
    "Avec $$\\xi=i\\Delta,$$\n",
    "$$i=0,...,100,$$\n",
    "$$\\Delta=L/(N-1),$$\n",
    "$$L=5,$$\n",
    "$$N=101.$$"
   ]
  },
  {
   "cell_type": "code",
   "execution_count": 43,
   "metadata": {},
   "outputs": [
    {
     "name": "stdout",
     "output_type": "stream",
     "text": [
      "Les 5 plus grandes valeurs propres de H sont:\n",
      "[-1.0000000013657317, -2.000000458986312, -3.0000377699668666, -4.0011531743049344, -5.015015849585255]\n"
     ]
    }
   ],
   "source": [
    "import copy\n",
    "Matrix3=numpy.zeros((99,99))     #On définit une matrice remplie de 0.\n",
    "j=1\n",
    "for i in range(0,99):\n",
    "    if (i!=0) and (i!=99):\n",
    "        Matrix3[i-1][i]=1*j       #On définit la matrice \"xi*Matrix1\", avec xi=m*Delta.\n",
    "        Matrix3[i][i-1]=-1*(j+1)\n",
    "        j=j+1\n",
    "Delta=(5/100)                    #On définit Delta\n",
    "H=numpy.add((1/(4*(Delta**2)))*Matrix2,(1/4)*Matrix3)  #On définis l'opérateur H, en sommant les matrices \"Matrix\" et \"Matrix3\".\n",
    "x=numpy.linalg.eig(H)  #On calcule les valeurs propres et vecteurs propres grâce à numpy.linalg.eig.\n",
    "maxvalues=[]              #On définit une liste vide\n",
    "g=copy.deepcopy(x[0])     #On copie les valeurs propres vers une variable g\n",
    "for i in range(0,5):\n",
    "    q=numpy.amax(g)        #On trouve la valeur propre maximale \n",
    "    p=numpy.argmax(g)      #On trouve l'index qui correspond à cette valeur propre maximale\n",
    "    g=numpy.delete(g,p,0)  #On enlève la valeur propre maximale de la liste g\n",
    "    maxvalues.append(q)    #On stocke la valeur propre maximale dans notre liste\n",
    "print('Les 5 plus grandes valeurs propres de H sont:')\n",
    "print(maxvalues)"
   ]
  },
  {
   "cell_type": "markdown",
   "metadata": {},
   "source": [
    "Ces valeurs sont bien les valeurs trouvées à la question précédente."
   ]
  },
  {
   "cell_type": "markdown",
   "metadata": {},
   "source": [
    "$\\textbf{Question 5}$"
   ]
  },
  {
   "cell_type": "markdown",
   "metadata": {},
   "source": [
    "Grâce aux équations $(3)$ et $(4)$, nous pouvons réécrire $(1)$ comme $L_{ij}w=-k^{2}c\\Rightarrow w=-k^2(L_{ij}^{-1}c).$\n",
    "On injecte cela dans l'équation $(2)$:\n",
    "\n",
    "$$\\frac{\\partial c_{i}}{\\partial t}=\\left ( -k^2\\sqrt{\\frac{Ra}{4t}}e^{-(i\\Delta )^2}(L_{ij})^{-1} +M_{ij}\\right )c_{j}=R_{ij}c_{j}, \\quad (6)$$\n",
    "\n",
    "où nous avons utilisé le fait que $\\xi_{i}=i\\Delta.$\n",
    "\n",
    "Nous allons à présent résoudre cette équation grâce à l'algorithme RK4."
   ]
  },
  {
   "cell_type": "code",
   "execution_count": null,
   "metadata": {},
   "outputs": [],
   "source": [
    "import math\n",
    "ci = numpy.load(\"init_cond_c.npy\")  #On charge la condition initiale aléatoire\n",
    "Ra=500\n",
    "k=0.1\n",
    "t=10**(-5)\n",
    "step=10**(-8)\n",
    "def f(t,c):                   #On définit la fonction à résoudre par RK4\n",
    "    L=((Ra/(4*t))*(1/Delta**2)*Matrix2)-(k**2)   #On définit l'opérateur L qui varie dans le temps\n",
    "    Inv=numpy.linalg.inv(L)           #On inverse L\n",
    "    M=(1/t)*(H-(((k**2)*t)/Ra))     #On définit l'opérateur M qui varie dans le temps\n",
    "    for i in range(0,99):\n",
    "        Inv[i]=((-k**2)*math.sqrt(Ra/(math.pi*t))*math.exp(-(i*Delta)**2)*Inv[i])+M[i]    #On modifie chaque ligne de l'opérateur Inv (afin d'obtenir l'opérateur R ci-dessus)\n",
    "    return(numpy.dot(Inv,c))\n",
    "while t<10**(-4):            #On résout grâce à RK4\n",
    "    k1=f(t,ci)\n",
    "    k2=f(t+(step/2),ci+((step/2)*k1))\n",
    "    k3=f(t+(step/2),ci+((step/2)*k2))\n",
    "    k4=f(t+step,ci+(step*k3))\n",
    "    t=t+step\n",
    "    t=round(t,10)\n",
    "    ci=ci+((step/6)*(k1+(2*k2)+(2*k3)+k4))\n",
    "print(ci)"
   ]
  },
  {
   "cell_type": "markdown",
   "metadata": {},
   "source": [
    "Calculons la valeur maximale de la solution en $t=10^{-4}$:"
   ]
  },
  {
   "cell_type": "code",
   "execution_count": 40,
   "metadata": {},
   "outputs": [
    {
     "name": "stdout",
     "output_type": "stream",
     "text": [
      "0.11687172609425604\n"
     ]
    }
   ],
   "source": [
    "q=numpy.amax(ci)\n",
    "print(q)"
   ]
  },
  {
   "cell_type": "markdown",
   "metadata": {},
   "source": [
    "Enfin, nous représentons sur un graphique la condition initiale $c_i(\\xi_m,t_0)$ et la solution à l'instant $t=10^{-4}.$"
   ]
  },
  {
   "cell_type": "code",
   "execution_count": 42,
   "metadata": {},
   "outputs": [
    {
     "data": {
      "text/plain": [
       "<matplotlib.legend.Legend at 0x115258860>"
      ]
     },
     "execution_count": 42,
     "metadata": {},
     "output_type": "execute_result"
    },
    {
     "data": {
      "image/png": "[encoded data removed]",
      "text/plain": [
       "<Figure size 720x360 with 1 Axes>"
      ]
     },
     "metadata": {
      "needs_background": "light"
     },
     "output_type": "display_data"
    }
   ],
   "source": [
    "u=[]\n",
    "for i in range(0,99):                 #On génère une liste contenant les valeurs de ξ\n",
    "    u.append(i*Delta)\n",
    "c0=numpy.load(\"init_cond_c.npy\")\n",
    "from matplotlib import pyplot\n",
    "pyplot.figure(figsize=(10.0, 5.0))\n",
    "pyplot.title('Fonction c en t=10^(-4)')\n",
    "pyplot.xlabel('ξ')\n",
    "pyplot.ylabel('c')\n",
    "pyplot.grid()\n",
    "pyplot.plot(u, ci, color='C0', linestyle='-', linewidth=2);   #On trace la courbe correspondant à la solution en t=10^(-4)\n",
    "pyplot.plot(u, c0, color='C1', linestyle='-', linewidth=2);   #On trace la courbe correspondant à la condition iniciale\n",
    "pyplot.gca().legend(('solution','condition initiale'))        #On ajoute la légende"
   ]
  },
  {
   "cell_type": "markdown",
   "metadata": {},
   "source": [
    "Afin de résoudre le problème d'advection-diffusion dans un milieu poreux, nous avons effectué un changement de variable afin d'obtenir les équations $(1)$ et $(2)$, qui ont été utilisées pour aboutir à l'équation $(6)$, une équation différentielle contenant uniquement $c$. Celle-ci a ensuite été résolue grâce à l'algorithme RK4, et la solution a été représentée sous forme graphique à la question 5. \n",
    "Après avoir tracé le graphique de c et comparé la condition initiale donnée et la solution au temps $t=10^{-4},$ nous observons que la condition initiale pour c fluctue fortement au temps initial $t=10^{-5}.$ Cependant, elle se stabilise vers $t=10^{-4}.$ Les fluctuations de concentration sont donc atténuées avec le temps.\n",
    "Nous avons de plus calculé théoriquement et numériquement les valeurs propres de l'opérateur H (voir équation (5)), et dans les deux cas nous trouvons des valeurs entières négatives non nulles."
   ]
  }
 ],
 "metadata": {
  "kernelspec": {
   "display_name": "Python 3",
   "language": "python",
   "name": "python3"
  },
  "language_info": {
   "codemirror_mode": {
    "name": "ipython",
    "version": 3
   },
   "file_extension": ".py",
   "mimetype": "text/x-python",
   "name": "python",
   "nbconvert_exporter": "python",
   "pygments_lexer": "ipython3",
   "version": "3.6.5"
  }
 },
 "nbformat": 4,
 "nbformat_minor": 2
}
